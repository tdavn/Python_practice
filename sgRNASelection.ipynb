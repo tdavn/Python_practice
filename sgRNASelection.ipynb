{
 "cells": [
  {
   "cell_type": "code",
   "execution_count": 8,
   "metadata": {},
   "outputs": [
    {
     "data": {
      "text/html": [
       "<div>\n",
       "<style scoped>\n",
       "    .dataframe tbody tr th:only-of-type {\n",
       "        vertical-align: middle;\n",
       "    }\n",
       "\n",
       "    .dataframe tbody tr th {\n",
       "        vertical-align: top;\n",
       "    }\n",
       "\n",
       "    .dataframe thead th {\n",
       "        text-align: right;\n",
       "    }\n",
       "</style>\n",
       "<table border=\"1\" class=\"dataframe\">\n",
       "  <thead>\n",
       "    <tr style=\"text-align: right;\">\n",
       "      <th></th>\n",
       "      <th>Target Gene Symbol</th>\n",
       "      <th>Target Transcript</th>\n",
       "      <th>Strand of Target</th>\n",
       "      <th>sgRNA Sequence</th>\n",
       "      <th>Exon Number</th>\n",
       "      <th>Combined Rank</th>\n",
       "      <th>Pick Order</th>\n",
       "    </tr>\n",
       "  </thead>\n",
       "  <tbody>\n",
       "    <tr>\n",
       "      <th>1</th>\n",
       "      <td>ING5</td>\n",
       "      <td>NM_032329.6</td>\n",
       "      <td>+</td>\n",
       "      <td>AAGTTCCTCTGAAGTTCGCA</td>\n",
       "      <td>2</td>\n",
       "      <td>2</td>\n",
       "      <td>1.0</td>\n",
       "    </tr>\n",
       "    <tr>\n",
       "      <th>6</th>\n",
       "      <td>ING5</td>\n",
       "      <td>NM_032329.6</td>\n",
       "      <td>+</td>\n",
       "      <td>AAAGAAAAAAGAGGGTCCCG</td>\n",
       "      <td>5</td>\n",
       "      <td>7</td>\n",
       "      <td>2.0</td>\n",
       "    </tr>\n",
       "    <tr>\n",
       "      <th>7</th>\n",
       "      <td>ING5</td>\n",
       "      <td>NM_032329.6</td>\n",
       "      <td>+</td>\n",
       "      <td>GGCTGCAGAGTACATCTCCA</td>\n",
       "      <td>3</td>\n",
       "      <td>8</td>\n",
       "      <td>3.0</td>\n",
       "    </tr>\n",
       "    <tr>\n",
       "      <th>9</th>\n",
       "      <td>ING5</td>\n",
       "      <td>NM_032329.6</td>\n",
       "      <td>+</td>\n",
       "      <td>CTGGACCAGAGGACGGAAGG</td>\n",
       "      <td>2</td>\n",
       "      <td>10</td>\n",
       "      <td>4.0</td>\n",
       "    </tr>\n",
       "    <tr>\n",
       "      <th>11</th>\n",
       "      <td>ING5</td>\n",
       "      <td>NM_032329.6</td>\n",
       "      <td>+</td>\n",
       "      <td>AGGTGGATAAACACATTCGA</td>\n",
       "      <td>4</td>\n",
       "      <td>12</td>\n",
       "      <td>5.0</td>\n",
       "    </tr>\n",
       "  </tbody>\n",
       "</table>\n",
       "</div>"
      ],
      "text/plain": [
       "   Target Gene Symbol Target Transcript Strand of Target  \\\n",
       "1                ING5       NM_032329.6                +   \n",
       "6                ING5       NM_032329.6                +   \n",
       "7                ING5       NM_032329.6                +   \n",
       "9                ING5       NM_032329.6                +   \n",
       "11               ING5       NM_032329.6                +   \n",
       "\n",
       "          sgRNA Sequence  Exon Number  Combined Rank  Pick Order  \n",
       "1   AAGTTCCTCTGAAGTTCGCA            2              2         1.0  \n",
       "6   AAAGAAAAAAGAGGGTCCCG            5              7         2.0  \n",
       "7   GGCTGCAGAGTACATCTCCA            3              8         3.0  \n",
       "9   CTGGACCAGAGGACGGAAGG            2             10         4.0  \n",
       "11  AGGTGGATAAACACATTCGA            4             12         5.0  "
      ]
     },
     "execution_count": 8,
     "metadata": {},
     "output_type": "execute_result"
    }
   ],
   "source": [
    "import pandas as pd\n",
    "\n",
    "# sum_info = pd.read_csv('sgrna-designs.summary.txt', sep='\\t')\n",
    "# print(sum_info)\n",
    "\n",
    "# Checking data.\n",
    "design_info = pd.read_csv('sgrna-designs.txt', sep='\\t')\n",
    "data_filter = design_info[['Target Gene Symbol', 'Target Transcript', 'Strand of Target', 'sgRNA Sequence', 'Exon Number',\n",
    "           'Combined Rank', 'Pick Order']]\n",
    "df = pd.DataFrame(data_filter)\n",
    "df_filtered = df.dropna()\n",
    "df_filtered"
   ]
  },
  {
   "cell_type": "code",
   "execution_count": null,
   "metadata": {},
   "outputs": [],
   "source": [
    "\n"
   ]
  },
  {
   "cell_type": "code",
   "execution_count": null,
   "metadata": {},
   "outputs": [],
   "source": []
  },
  {
   "cell_type": "code",
   "execution_count": 6,
   "metadata": {},
   "outputs": [],
   "source": []
  },
  {
   "cell_type": "code",
   "execution_count": null,
   "metadata": {},
   "outputs": [],
   "source": []
  },
  {
   "cell_type": "code",
   "execution_count": null,
   "metadata": {},
   "outputs": [],
   "source": []
  }
 ],
 "metadata": {
  "kernelspec": {
   "display_name": "Python 3",
   "language": "python",
   "name": "python3"
  },
  "language_info": {
   "codemirror_mode": {
    "name": "ipython",
    "version": 3
   },
   "file_extension": ".py",
   "mimetype": "text/x-python",
   "name": "python",
   "nbconvert_exporter": "python",
   "pygments_lexer": "ipython3",
   "version": "3.8.3"
  }
 },
 "nbformat": 4,
 "nbformat_minor": 4
}
